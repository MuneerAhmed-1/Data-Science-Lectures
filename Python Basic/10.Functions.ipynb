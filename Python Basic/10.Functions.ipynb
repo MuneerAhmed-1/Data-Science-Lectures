{
 "cells": [
  {
   "cell_type": "markdown",
   "id": "453c1841",
   "metadata": {},
   "source": [
    "# Functions:"
   ]
  },
  {
   "cell_type": "markdown",
   "id": "0f59c4d1",
   "metadata": {},
   "source": [
    "\n",
    "- built in functions like print, len, str, int, float, type, list\n",
    "- Function declaration syntax:\n",
    "    * def function_name():\n",
    "        - statement \n",
    "        - return 0"
   ]
  },
  {
   "cell_type": "code",
   "execution_count": 1,
   "id": "00c9b000",
   "metadata": {},
   "outputs": [],
   "source": [
    "def output():\n",
    "    value = \"Hello World\"\n",
    "    return value"
   ]
  },
  {
   "cell_type": "code",
   "execution_count": 2,
   "id": "c2ddc24c",
   "metadata": {},
   "outputs": [
    {
     "data": {
      "text/plain": [
       "'Hello World'"
      ]
     },
     "execution_count": 2,
     "metadata": {},
     "output_type": "execute_result"
    }
   ],
   "source": [
    "output() "
   ]
  },
  {
   "cell_type": "code",
   "execution_count": 7,
   "id": "dddf0577",
   "metadata": {},
   "outputs": [],
   "source": [
    "def add(num1, num2): #parameters\n",
    "    addition = num1 + num2\n",
    "    return addition, num1, num2"
   ]
  },
  {
   "cell_type": "code",
   "execution_count": 8,
   "id": "729b729a",
   "metadata": {},
   "outputs": [
    {
     "data": {
      "text/plain": [
       "(15, 5, 10)"
      ]
     },
     "execution_count": 8,
     "metadata": {},
     "output_type": "execute_result"
    }
   ],
   "source": [
    "add(5, 10) # Positional Arguments"
   ]
  },
  {
   "cell_type": "code",
   "execution_count": 9,
   "id": "1d1fd7ba",
   "metadata": {},
   "outputs": [],
   "source": [
    "def test(a, b, c):\n",
    "    return a + b, b-c"
   ]
  },
  {
   "cell_type": "code",
   "execution_count": 10,
   "id": "f7feefc8",
   "metadata": {},
   "outputs": [
    {
     "data": {
      "text/plain": [
       "(25, 5)"
      ]
     },
     "execution_count": 10,
     "metadata": {},
     "output_type": "execute_result"
    }
   ],
   "source": [
    "test(b=10, c=5, a=15) # keyword Arguments"
   ]
  },
  {
   "cell_type": "code",
   "execution_count": 11,
   "id": "d9d89946",
   "metadata": {},
   "outputs": [
    {
     "data": {
      "text/plain": [
       "(25, 5)"
      ]
     },
     "execution_count": 11,
     "metadata": {},
     "output_type": "execute_result"
    }
   ],
   "source": [
    "test(15, 10, 5) # positional Argument"
   ]
  },
  {
   "cell_type": "code",
   "execution_count": 12,
   "id": "e2345efb",
   "metadata": {},
   "outputs": [
    {
     "data": {
      "text/plain": [
       "(25, 5)"
      ]
     },
     "execution_count": 12,
     "metadata": {},
     "output_type": "execute_result"
    }
   ],
   "source": [
    "test(15, c=5, b=10) # mix Argument"
   ]
  },
  {
   "cell_type": "code",
   "execution_count": 13,
   "id": "5f6605ad",
   "metadata": {},
   "outputs": [],
   "source": [
    "def salary_tax(salary, tax_rate=0.05): # Default Arguments\n",
    "    return salary * tax_rate"
   ]
  },
  {
   "cell_type": "code",
   "execution_count": 14,
   "id": "ce5bae68",
   "metadata": {},
   "outputs": [
    {
     "data": {
      "text/plain": [
       "1000.0"
      ]
     },
     "execution_count": 14,
     "metadata": {},
     "output_type": "execute_result"
    }
   ],
   "source": [
    "salary_tax(20000)"
   ]
  },
  {
   "cell_type": "code",
   "execution_count": 15,
   "id": "13c790f1",
   "metadata": {},
   "outputs": [
    {
     "data": {
      "text/plain": [
       "2000.0"
      ]
     },
     "execution_count": 15,
     "metadata": {},
     "output_type": "execute_result"
    }
   ],
   "source": [
    "salary_tax(20000, 0.10)"
   ]
  }
 ],
 "metadata": {
  "kernelspec": {
   "display_name": "Python 3 (ipykernel)",
   "language": "python",
   "name": "python3"
  },
  "language_info": {
   "codemirror_mode": {
    "name": "ipython",
    "version": 3
   },
   "file_extension": ".py",
   "mimetype": "text/x-python",
   "name": "python",
   "nbconvert_exporter": "python",
   "pygments_lexer": "ipython3",
   "version": "3.9.7"
  }
 },
 "nbformat": 4,
 "nbformat_minor": 5
}
