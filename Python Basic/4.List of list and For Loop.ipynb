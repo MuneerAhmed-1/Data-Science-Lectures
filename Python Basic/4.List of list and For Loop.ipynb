{
 "cells": [
  {
   "cell_type": "markdown",
   "id": "950d52a0",
   "metadata": {},
   "source": [
    "# List of List"
   ]
  },
  {
   "cell_type": "code",
   "execution_count": 1,
   "id": "d3608c1c",
   "metadata": {},
   "outputs": [],
   "source": [
    "emp1 = ['danish', 21, 50000.0, 'male']\n",
    "emp2 = ['ali', 23, 25000.0, 'male']\n",
    "emp3 = ['aliza', 150000.0, 'female']\n",
    "emp4 = ['aisha', 20000.0, 'female']"
   ]
  },
  {
   "cell_type": "code",
   "execution_count": 2,
   "id": "bae51409",
   "metadata": {},
   "outputs": [
    {
     "name": "stdout",
     "output_type": "stream",
     "text": [
      "['danish', 21, 50000.0, 'male'] ['ali', 23, 25000.0, 'male'] ['aliza', 150000.0, 'female'] ['aisha', 20000.0, 'female']\n"
     ]
    }
   ],
   "source": [
    "print(emp1, emp2, emp3, emp4)"
   ]
  },
  {
   "cell_type": "code",
   "execution_count": 3,
   "id": "8244eb6a",
   "metadata": {},
   "outputs": [
    {
     "name": "stdout",
     "output_type": "stream",
     "text": [
      "[12, 25.2, 'danial', ['ali', 21]]\n"
     ]
    }
   ],
   "source": [
    "value = [12, 25.2, 'danial', ['ali', 21]]\n",
    "print(value)"
   ]
  },
  {
   "cell_type": "code",
   "execution_count": 4,
   "id": "ec265675",
   "metadata": {},
   "outputs": [
    {
     "name": "stdout",
     "output_type": "stream",
     "text": [
      "['ali', 21]\n"
     ]
    }
   ],
   "source": [
    "print(value[-1])"
   ]
  },
  {
   "cell_type": "code",
   "execution_count": 5,
   "id": "96eb0ff7",
   "metadata": {},
   "outputs": [
    {
     "name": "stdout",
     "output_type": "stream",
     "text": [
      "ali\n"
     ]
    }
   ],
   "source": [
    "print(value[-1][0])"
   ]
  },
  {
   "cell_type": "code",
   "execution_count": 6,
   "id": "9743611a",
   "metadata": {},
   "outputs": [
    {
     "name": "stdout",
     "output_type": "stream",
     "text": [
      "ali\n"
     ]
    }
   ],
   "source": [
    "print(value[-1][-2])"
   ]
  },
  {
   "cell_type": "code",
   "execution_count": 9,
   "id": "f15af8fa",
   "metadata": {},
   "outputs": [],
   "source": [
    "emps = [['danish', 21, 50000.0, 'male'], emp2, emp3, emp4]"
   ]
  },
  {
   "cell_type": "code",
   "execution_count": 10,
   "id": "31752109",
   "metadata": {},
   "outputs": [
    {
     "data": {
      "text/plain": [
       "[['danish', 21, 50000.0, 'male'],\n",
       " ['ali', 23, 25000.0, 'male'],\n",
       " ['aliza', 150000.0, 'female'],\n",
       " ['aisha', 20000.0, 'female']]"
      ]
     },
     "execution_count": 10,
     "metadata": {},
     "output_type": "execute_result"
    }
   ],
   "source": [
    "emps"
   ]
  },
  {
   "cell_type": "code",
   "execution_count": 11,
   "id": "49b4a44e",
   "metadata": {},
   "outputs": [
    {
     "data": {
      "text/plain": [
       "'danish'"
      ]
     },
     "execution_count": 11,
     "metadata": {},
     "output_type": "execute_result"
    }
   ],
   "source": [
    "emps[0][0]"
   ]
  },
  {
   "cell_type": "code",
   "execution_count": 13,
   "id": "8b9aaed4",
   "metadata": {},
   "outputs": [
    {
     "data": {
      "text/plain": [
       "20000.0"
      ]
     },
     "execution_count": 13,
     "metadata": {},
     "output_type": "execute_result"
    }
   ],
   "source": [
    "emps[-1][1]"
   ]
  },
  {
   "cell_type": "markdown",
   "id": "199c1ace",
   "metadata": {},
   "source": [
    "# For Loop"
   ]
  },
  {
   "cell_type": "code",
   "execution_count": 14,
   "id": "32c3fe8c",
   "metadata": {},
   "outputs": [
    {
     "data": {
      "text/plain": [
       "[['danish', 21, 50000.0, 'male'],\n",
       " ['ali', 23, 25000.0, 'male'],\n",
       " ['aliza', 150000.0, 'female'],\n",
       " ['aisha', 20000.0, 'female']]"
      ]
     },
     "execution_count": 14,
     "metadata": {},
     "output_type": "execute_result"
    }
   ],
   "source": [
    "emps"
   ]
  },
  {
   "cell_type": "code",
   "execution_count": 18,
   "id": "754cbcd4",
   "metadata": {},
   "outputs": [
    {
     "name": "stdout",
     "output_type": "stream",
     "text": [
      "4\n",
      "6\n",
      "8\n",
      "10\n",
      "12\n",
      "14\n",
      "16\n",
      "18\n"
     ]
    }
   ],
   "source": [
    "for data in range(4, 20, 2):\n",
    "    print(data)"
   ]
  },
  {
   "cell_type": "code",
   "execution_count": 20,
   "id": "aa4c5be3",
   "metadata": {},
   "outputs": [
    {
     "name": "stdout",
     "output_type": "stream",
     "text": [
      "['danish', 21, 50000.0, 'male']\n",
      "['ali', 23, 25000.0, 'male']\n",
      "['aliza', 150000.0, 'female']\n",
      "['aisha', 20000.0, 'female']\n"
     ]
    }
   ],
   "source": [
    "for i in range(0, 4):\n",
    "    print(emps[i])"
   ]
  },
  {
   "cell_type": "code",
   "execution_count": 26,
   "id": "20f0f74d",
   "metadata": {},
   "outputs": [
    {
     "name": "stdout",
     "output_type": "stream",
     "text": [
      "male\n",
      "male\n",
      "female\n",
      "female\n"
     ]
    }
   ],
   "source": [
    "for i in range(0, 4):\n",
    "    print(emps[i][-1])"
   ]
  },
  {
   "cell_type": "code",
   "execution_count": 30,
   "id": "ba53a24e",
   "metadata": {},
   "outputs": [
    {
     "name": "stdout",
     "output_type": "stream",
     "text": [
      "male\n",
      "male\n",
      "female\n",
      "female\n"
     ]
    }
   ],
   "source": [
    "for i in emps:\n",
    "    print(i[-1])"
   ]
  }
 ],
 "metadata": {
  "kernelspec": {
   "display_name": "Python 3 (ipykernel)",
   "language": "python",
   "name": "python3"
  },
  "language_info": {
   "codemirror_mode": {
    "name": "ipython",
    "version": 3
   },
   "file_extension": ".py",
   "mimetype": "text/x-python",
   "name": "python",
   "nbconvert_exporter": "python",
   "pygments_lexer": "ipython3",
   "version": "3.9.7"
  }
 },
 "nbformat": 4,
 "nbformat_minor": 5
}
