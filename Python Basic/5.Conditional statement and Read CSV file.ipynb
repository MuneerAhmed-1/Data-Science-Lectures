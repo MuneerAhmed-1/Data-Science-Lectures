{
 "cells": [
  {
   "cell_type": "markdown",
   "id": "a67dc643",
   "metadata": {},
   "source": [
    "# Conditional Statement\n",
    "    - syntax:\n",
    "        * if condition:\n",
    "            statement\n",
    "          else:\n",
    "            statement"
   ]
  },
  {
   "cell_type": "code",
   "execution_count": 2,
   "id": "e0b85316",
   "metadata": {},
   "outputs": [
    {
     "name": "stdout",
     "output_type": "stream",
     "text": [
      "Not eligible to vote\n"
     ]
    }
   ],
   "source": [
    "age = 15\n",
    "if age >= 18:\n",
    "    print(\"Eligible to vote\")\n",
    "else:\n",
    "    print(\"Not eligible to vote\")"
   ]
  },
  {
   "cell_type": "code",
   "execution_count": 6,
   "id": "2d6adaa8",
   "metadata": {},
   "outputs": [
    {
     "name": "stdout",
     "output_type": "stream",
     "text": [
      "Enter any number: 18\n",
      "Eligible to vote\n"
     ]
    }
   ],
   "source": [
    "age = int(input(\"Enter any number: \"))\n",
    "if age >= 18:\n",
    "    print(\"Eligible to vote\")\n",
    "else:\n",
    "    print(\"Not eligible to vote\")"
   ]
  },
  {
   "cell_type": "code",
   "execution_count": 7,
   "id": "e8168693",
   "metadata": {},
   "outputs": [
    {
     "data": {
      "text/plain": [
       "True"
      ]
     },
     "execution_count": 7,
     "metadata": {},
     "output_type": "execute_result"
    }
   ],
   "source": [
    "age >= 18"
   ]
  },
  {
   "cell_type": "markdown",
   "id": "c7fdec98",
   "metadata": {},
   "source": [
    "# Rational Operators"
   ]
  },
  {
   "cell_type": "markdown",
   "id": "875075ab",
   "metadata": {},
   "source": [
    "- greater then\n",
    "- less then\n",
    "- greater then or equal too\n",
    "- less then or equal too\n",
    "- not equal too\n",
    "- equal too"
   ]
  },
  {
   "cell_type": "code",
   "execution_count": 8,
   "id": "dbe71d8b",
   "metadata": {},
   "outputs": [
    {
     "name": "stdout",
     "output_type": "stream",
     "text": [
      "pass\n"
     ]
    }
   ],
   "source": [
    "percentage = 55\n",
    "if percentage >= 50:\n",
    "    print('pass')\n",
    "else:\n",
    "    print('fail')"
   ]
  },
  {
   "cell_type": "code",
   "execution_count": 9,
   "id": "55982ad8",
   "metadata": {},
   "outputs": [],
   "source": [
    "import csv\n",
    "open_file = open(\"data.csv\")\n",
    "read_file = csv.reader(open_file)\n",
    "datasets = list(read_file)"
   ]
  },
  {
   "cell_type": "code",
   "execution_count": 10,
   "id": "d1e33a4f",
   "metadata": {},
   "outputs": [
    {
     "data": {
      "text/plain": [
       "[['Roll No', 'Name', 'Chemistry', 'Physics', 'Maths'],\n",
       " ['101', 'Aliza', '45', '99', '88'],\n",
       " ['102', 'Soban', '50', '97', '87'],\n",
       " ['103', 'Noman', '43', '94', '89'],\n",
       " ['104', 'Bilal', '42', '87', '85'],\n",
       " ['105', 'Saim', '39', '76', '76'],\n",
       " ['106', 'Shameer', '38', '58', '75'],\n",
       " ['107', 'Zainab', '47', '92', '78'],\n",
       " ['108', 'Umer', '46', '86', '73'],\n",
       " ['109', 'Umair', '35', '83', '89'],\n",
       " ['110', 'Fizzah', '36', '81', '97'],\n",
       " ['111', 'Zahra', '49', '90', '94'],\n",
       " ['112', 'Fatima', '45', '88', '99'],\n",
       " ['113', 'Tooba', '43', '80', '93'],\n",
       " ['114', 'Saad', '42', '90', '77'],\n",
       " ['115', 'Azher', '41', '93', '98'],\n",
       " ['116', 'Danial', '34', '82', '87'],\n",
       " ['117', 'kaiser', '45', '91', '86'],\n",
       " ['118', 'Jibran', '46', '77', '78'],\n",
       " ['119', 'Maria', '43', '69', '94'],\n",
       " ['120', 'Amna', '38', '89', '91'],\n",
       " ['121', 'Noreen', '37', '98', '90']]"
      ]
     },
     "execution_count": 10,
     "metadata": {},
     "output_type": "execute_result"
    }
   ],
   "source": [
    "datasets"
   ]
  },
  {
   "cell_type": "code",
   "execution_count": 11,
   "id": "cfcf2ff0",
   "metadata": {},
   "outputs": [
    {
     "data": {
      "text/plain": [
       "['Roll No', 'Name', 'Chemistry', 'Physics', 'Maths']"
      ]
     },
     "execution_count": 11,
     "metadata": {},
     "output_type": "execute_result"
    }
   ],
   "source": [
    "datasets[0]"
   ]
  },
  {
   "cell_type": "code",
   "execution_count": 12,
   "id": "6e20ae58",
   "metadata": {},
   "outputs": [
    {
     "data": {
      "text/plain": [
       "22"
      ]
     },
     "execution_count": 12,
     "metadata": {},
     "output_type": "execute_result"
    }
   ],
   "source": [
    "len(datasets)"
   ]
  },
  {
   "cell_type": "code",
   "execution_count": 19,
   "id": "2a02e8de",
   "metadata": {},
   "outputs": [],
   "source": [
    "mark_chem = []\n",
    "for i in datasets[1:]:\n",
    "    chem = int((i[2]))\n",
    "    mark_chem.append(chem)\n",
    "    s = sum(mark_chem)\n",
    "    avg_chem = round(s / len(datasets), 2)"
   ]
  },
  {
   "cell_type": "code",
   "execution_count": 14,
   "id": "d45d0731",
   "metadata": {},
   "outputs": [
    {
     "data": {
      "text/plain": [
       "40.18"
      ]
     },
     "execution_count": 14,
     "metadata": {},
     "output_type": "execute_result"
    }
   ],
   "source": [
    "avg_chem"
   ]
  },
  {
   "cell_type": "code",
   "execution_count": 15,
   "id": "8d7845f1",
   "metadata": {},
   "outputs": [
    {
     "name": "stdout",
     "output_type": "stream",
     "text": [
      "Percentage of Aliza is 77.33\n",
      "Percentage of Soban is 78.0\n",
      "Percentage of Noman is 75.33\n",
      "Percentage of Bilal is 71.33\n",
      "Percentage of Saim is 63.67\n",
      "Percentage of Shameer is 57.0\n",
      "Percentage of Zainab is 72.33\n",
      "Percentage of Umer is 68.33\n",
      "Percentage of Umair is 69.0\n",
      "Percentage of Fizzah is 71.33\n",
      "Percentage of Zahra is 77.67\n",
      "Percentage of Fatima is 77.33\n",
      "Percentage of Tooba is 72.0\n",
      "Percentage of Saad is 69.67\n",
      "Percentage of Azher is 77.33\n",
      "Percentage of Danial is 67.67\n",
      "Percentage of kaiser is 74.0\n",
      "Percentage of Jibran is 67.0\n",
      "Percentage of Maria is 68.67\n",
      "Percentage of Amna is 72.67\n",
      "Percentage of Noreen is 75.0\n"
     ]
    }
   ],
   "source": [
    "for i in datasets[1:]:\n",
    "    chem = int(i[2])\n",
    "    phy = int(i[3])\n",
    "    math = int(i[4])\n",
    "    percentage = round((chem+phy+math)/300*100, 2)\n",
    "    print(f'Percentage of {i[1]} is {percentage}')\n",
    "    i.append(percentage)"
   ]
  },
  {
   "cell_type": "code",
   "execution_count": 16,
   "id": "cda553a8",
   "metadata": {},
   "outputs": [
    {
     "data": {
      "text/plain": [
       "['Roll No', 'Name', 'Chemistry', 'Physics', 'Maths']"
      ]
     },
     "execution_count": 16,
     "metadata": {},
     "output_type": "execute_result"
    }
   ],
   "source": [
    "datasets[0]"
   ]
  },
  {
   "cell_type": "code",
   "execution_count": 17,
   "id": "5efdc75a",
   "metadata": {},
   "outputs": [],
   "source": [
    "datasets[0].append('percentage')"
   ]
  },
  {
   "cell_type": "code",
   "execution_count": 18,
   "id": "7f3bba3d",
   "metadata": {},
   "outputs": [
    {
     "data": {
      "text/plain": [
       "[['Roll No', 'Name', 'Chemistry', 'Physics', 'Maths', 'percentage'],\n",
       " ['101', 'Aliza', '45', '99', '88'],\n",
       " ['102', 'Soban', '50', '97', '87'],\n",
       " ['103', 'Noman', '43', '94', '89'],\n",
       " ['104', 'Bilal', '42', '87', '85'],\n",
       " ['105', 'Saim', '39', '76', '76'],\n",
       " ['106', 'Shameer', '38', '58', '75'],\n",
       " ['107', 'Zainab', '47', '92', '78'],\n",
       " ['108', 'Umer', '46', '86', '73'],\n",
       " ['109', 'Umair', '35', '83', '89'],\n",
       " ['110', 'Fizzah', '36', '81', '97'],\n",
       " ['111', 'Zahra', '49', '90', '94'],\n",
       " ['112', 'Fatima', '45', '88', '99'],\n",
       " ['113', 'Tooba', '43', '80', '93'],\n",
       " ['114', 'Saad', '42', '90', '77'],\n",
       " ['115', 'Azher', '41', '93', '98'],\n",
       " ['116', 'Danial', '34', '82', '87'],\n",
       " ['117', 'kaiser', '45', '91', '86'],\n",
       " ['118', 'Jibran', '46', '77', '78'],\n",
       " ['119', 'Maria', '43', '69', '94'],\n",
       " ['120', 'Amna', '38', '89', '91'],\n",
       " ['121', 'Noreen', '37', '98', '90']]"
      ]
     },
     "execution_count": 18,
     "metadata": {},
     "output_type": "execute_result"
    }
   ],
   "source": [
    "datasets"
   ]
  },
  {
   "cell_type": "code",
   "execution_count": 20,
   "id": "ee90c6a1",
   "metadata": {},
   "outputs": [
    {
     "data": {
      "text/plain": [
       "[['Roll No', 'Name', 'Chemistry', 'Physics', 'Maths', 'percentage'],\n",
       " ['101', 'Aliza', '45', '99', '88', 75.0],\n",
       " ['102', 'Soban', '50', '97', '87', 75.0],\n",
       " ['103', 'Noman', '43', '94', '89', 75.0],\n",
       " ['104', 'Bilal', '42', '87', '85', 75.0],\n",
       " ['105', 'Saim', '39', '76', '76', 75.0],\n",
       " ['106', 'Shameer', '38', '58', '75', 75.0],\n",
       " ['107', 'Zainab', '47', '92', '78', 75.0],\n",
       " ['108', 'Umer', '46', '86', '73', 75.0],\n",
       " ['109', 'Umair', '35', '83', '89', 75.0],\n",
       " ['110', 'Fizzah', '36', '81', '97', 75.0],\n",
       " ['111', 'Zahra', '49', '90', '94', 75.0],\n",
       " ['112', 'Fatima', '45', '88', '99', 75.0],\n",
       " ['113', 'Tooba', '43', '80', '93', 75.0],\n",
       " ['114', 'Saad', '42', '90', '77', 75.0],\n",
       " ['115', 'Azher', '41', '93', '98', 75.0],\n",
       " ['116', 'Danial', '34', '82', '87', 75.0],\n",
       " ['117', 'kaiser', '45', '91', '86', 75.0],\n",
       " ['118', 'Jibran', '46', '77', '78', 75.0],\n",
       " ['119', 'Maria', '43', '69', '94', 75.0],\n",
       " ['120', 'Amna', '38', '89', '91', 75.0],\n",
       " ['121', 'Noreen', '37', '98', '90', 75.0]]"
      ]
     },
     "execution_count": 20,
     "metadata": {},
     "output_type": "execute_result"
    }
   ],
   "source": [
    "datasets"
   ]
  },
  {
   "cell_type": "code",
   "execution_count": null,
   "id": "a308bc40",
   "metadata": {},
   "outputs": [],
   "source": []
  }
 ],
 "metadata": {
  "kernelspec": {
   "display_name": "Python 3 (ipykernel)",
   "language": "python",
   "name": "python3"
  },
  "language_info": {
   "codemirror_mode": {
    "name": "ipython",
    "version": 3
   },
   "file_extension": ".py",
   "mimetype": "text/x-python",
   "name": "python",
   "nbconvert_exporter": "python",
   "pygments_lexer": "ipython3",
   "version": "3.9.7"
  }
 },
 "nbformat": 4,
 "nbformat_minor": 5
}
