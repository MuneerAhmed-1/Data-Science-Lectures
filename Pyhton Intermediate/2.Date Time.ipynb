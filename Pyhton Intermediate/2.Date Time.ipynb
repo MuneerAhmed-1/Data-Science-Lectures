{
 "cells": [
  {
   "cell_type": "code",
   "execution_count": 39,
   "id": "bda30323",
   "metadata": {},
   "outputs": [],
   "source": [
    "import datetime as dt"
   ]
  },
  {
   "cell_type": "code",
   "execution_count": 40,
   "id": "82ae2962",
   "metadata": {},
   "outputs": [
    {
     "data": {
      "text/plain": [
       "'30-March-2020'"
      ]
     },
     "execution_count": 40,
     "metadata": {},
     "output_type": "execute_result"
    }
   ],
   "source": [
    "date = '30-March-2020'\n",
    "date"
   ]
  },
  {
   "cell_type": "code",
   "execution_count": 41,
   "id": "c46b009d",
   "metadata": {},
   "outputs": [],
   "source": [
    "# %d = day eg:1-31\n",
    "# %m = Month as a number eg: 0-12\n",
    "# %b = Month name, short version\n",
    "# %B = Month name, full version\n",
    "# %y = year short version, without century eg: 18\n",
    "# %Y = year, full version eg: 2018\n",
    "pattern = '%d-%B-%Y'"
   ]
  },
  {
   "cell_type": "markdown",
   "id": "b9cd8cc2",
   "metadata": {},
   "source": [
    "# dt.datetime.strptime()"
   ]
  },
  {
   "cell_type": "code",
   "execution_count": 42,
   "id": "47bef262",
   "metadata": {},
   "outputs": [
    {
     "name": "stdout",
     "output_type": "stream",
     "text": [
      "2020-03-30 00:00:00\n"
     ]
    }
   ],
   "source": [
    "# strptime = convert string value to date time\n",
    "date = dt.datetime.strptime(date, pattern)\n",
    "print(date)"
   ]
  },
  {
   "cell_type": "code",
   "execution_count": 43,
   "id": "88834f4e",
   "metadata": {},
   "outputs": [
    {
     "data": {
      "text/plain": [
       "datetime.datetime"
      ]
     },
     "execution_count": 43,
     "metadata": {},
     "output_type": "execute_result"
    }
   ],
   "source": [
    "type(date)"
   ]
  },
  {
   "cell_type": "markdown",
   "id": "0da4c7b2",
   "metadata": {},
   "source": [
    "# Attributes of Date Time\n",
    "- year\n",
    "- month\n",
    "- day\n",
    "- hour\n",
    "- minute\n",
    "- second"
   ]
  },
  {
   "cell_type": "code",
   "execution_count": 44,
   "id": "af2f249a",
   "metadata": {},
   "outputs": [
    {
     "data": {
      "text/plain": [
       "2020"
      ]
     },
     "execution_count": 44,
     "metadata": {},
     "output_type": "execute_result"
    }
   ],
   "source": [
    "date.year"
   ]
  },
  {
   "cell_type": "code",
   "execution_count": 45,
   "id": "ca1db5c8",
   "metadata": {},
   "outputs": [
    {
     "data": {
      "text/plain": [
       "3"
      ]
     },
     "execution_count": 45,
     "metadata": {},
     "output_type": "execute_result"
    }
   ],
   "source": [
    "date.month"
   ]
  },
  {
   "cell_type": "code",
   "execution_count": 46,
   "id": "e4fee072",
   "metadata": {},
   "outputs": [
    {
     "data": {
      "text/plain": [
       "30"
      ]
     },
     "execution_count": 46,
     "metadata": {},
     "output_type": "execute_result"
    }
   ],
   "source": [
    "date.day"
   ]
  },
  {
   "cell_type": "code",
   "execution_count": 47,
   "id": "2bdf4fd9",
   "metadata": {},
   "outputs": [
    {
     "data": {
      "text/plain": [
       "0"
      ]
     },
     "execution_count": 47,
     "metadata": {},
     "output_type": "execute_result"
    }
   ],
   "source": [
    "date.hour"
   ]
  },
  {
   "cell_type": "code",
   "execution_count": 48,
   "id": "42631841",
   "metadata": {},
   "outputs": [],
   "source": [
    "from csv import reader"
   ]
  },
  {
   "cell_type": "code",
   "execution_count": 49,
   "id": "ac5d954c",
   "metadata": {},
   "outputs": [],
   "source": [
    "dataset = list(reader(open('datetime_data.csv')))"
   ]
  },
  {
   "cell_type": "code",
   "execution_count": 50,
   "id": "be76377e",
   "metadata": {},
   "outputs": [],
   "source": [
    "header = dataset[0]\n",
    "dataset = dataset[1:]"
   ]
  },
  {
   "cell_type": "code",
   "execution_count": 51,
   "id": "f9cf5ae0",
   "metadata": {},
   "outputs": [
    {
     "name": "stdout",
     "output_type": "stream",
     "text": [
      "2010-02-01 00:00:00\n",
      "2010-08-02 00:00:00\n",
      "2011-02-03 00:00:00\n",
      "2010-07-30 00:00:00\n",
      "2010-07-05 00:00:00\n",
      "2010-04-06 00:00:00\n",
      "2010-02-07 00:00:00\n",
      "2010-03-08 00:00:00\n",
      "2010-05-09 00:00:00\n",
      "2015-02-10 00:00:00\n",
      "2015-02-11 00:00:00\n",
      "2015-06-12 00:00:00\n",
      "2015-05-13 00:00:00\n",
      "2015-02-14 00:00:00\n",
      "2014-05-15 00:00:00\n",
      "2012-02-16 00:00:00\n",
      "2018-05-17 00:00:00\n",
      "2018-05-18 00:00:00\n",
      "2018-05-24 00:00:00\n",
      "2010-02-20 00:00:00\n"
     ]
    }
   ],
   "source": [
    "pattern = '%d-%b-%y'\n",
    "for i in dataset:\n",
    "    i[1] = dt.datetime.strptime(i[1], pattern)\n",
    "    print(i[1])"
   ]
  },
  {
   "cell_type": "code",
   "execution_count": 52,
   "id": "1461b2a7",
   "metadata": {},
   "outputs": [
    {
     "data": {
      "text/plain": [
       "[['101', datetime.datetime(2010, 2, 1, 0, 0), 'Aliza', '50', '23', '87'],\n",
       " ['102', datetime.datetime(2010, 8, 2, 0, 0), 'Fareed', '45', '24', '88'],\n",
       " ['103', datetime.datetime(2011, 2, 3, 0, 0), 'Basit', '46', '25', '89'],\n",
       " ['104', datetime.datetime(2010, 7, 30, 0, 0), 'Abdullah', '47', '26', '90'],\n",
       " ['105', datetime.datetime(2010, 7, 5, 0, 0), 'Ali', '48', '27', '67'],\n",
       " ['106', datetime.datetime(2010, 4, 6, 0, 0), 'Mubashir', '49', '28', '68'],\n",
       " ['107', datetime.datetime(2010, 2, 7, 0, 0), 'Waleed', '50', '29', '69'],\n",
       " ['108', datetime.datetime(2010, 3, 8, 0, 0), 'Mansoor', '51', '30', '70'],\n",
       " ['109', datetime.datetime(2010, 5, 9, 0, 0), 'Zain', '52', '31', '71'],\n",
       " ['110', datetime.datetime(2015, 2, 10, 0, 0), 'Mohsin', '53', '67', '72'],\n",
       " ['111', datetime.datetime(2015, 2, 11, 0, 0), 'Shahmeer', '54', '68', '73'],\n",
       " ['112', datetime.datetime(2015, 6, 12, 0, 0), 'Rao', '55', '69', '74'],\n",
       " ['113', datetime.datetime(2015, 5, 13, 0, 0), 'Aurangzeb', '56', '70', '75'],\n",
       " ['114', datetime.datetime(2015, 2, 14, 0, 0), 'Zeeshan', '57', '71', '76'],\n",
       " ['115', datetime.datetime(2014, 5, 15, 0, 0), 'Humza', '58', '72', '77'],\n",
       " ['116', datetime.datetime(2012, 2, 16, 0, 0), 'Hamza', '59', '73', '78'],\n",
       " ['117', datetime.datetime(2018, 5, 17, 0, 0), 'Khalid', '60', '74', '79'],\n",
       " ['118', datetime.datetime(2018, 5, 18, 0, 0), 'Behroz', '61', '75', '80'],\n",
       " ['119', datetime.datetime(2018, 5, 24, 0, 0), 'Justin', '62', '76', '81'],\n",
       " ['120', datetime.datetime(2010, 2, 20, 0, 0), 'Danial', '63', '77', '82']]"
      ]
     },
     "execution_count": 52,
     "metadata": {},
     "output_type": "execute_result"
    }
   ],
   "source": [
    "dataset"
   ]
  },
  {
   "cell_type": "code",
   "execution_count": 53,
   "id": "85065dea",
   "metadata": {},
   "outputs": [
    {
     "name": "stdout",
     "output_type": "stream",
     "text": [
      "2010\n",
      "2010\n",
      "2011\n",
      "2010\n",
      "2010\n",
      "2010\n",
      "2010\n",
      "2010\n",
      "2010\n",
      "2015\n",
      "2015\n",
      "2015\n",
      "2015\n",
      "2015\n",
      "2014\n",
      "2012\n",
      "2018\n",
      "2018\n",
      "2018\n",
      "2010\n"
     ]
    }
   ],
   "source": [
    "for i in dataset:\n",
    "    print(i[1].year)"
   ]
  },
  {
   "cell_type": "code",
   "execution_count": 54,
   "id": "75ec198e",
   "metadata": {},
   "outputs": [],
   "source": [
    "year_admission = {}\n",
    "for i in dataset:\n",
    "    year = i[1].year\n",
    "    if year in year_admission:\n",
    "        year_admission[year] += 1\n",
    "    else:\n",
    "        year_admission[year] = 1"
   ]
  },
  {
   "cell_type": "code",
   "execution_count": 55,
   "id": "41134e63",
   "metadata": {},
   "outputs": [
    {
     "data": {
      "text/plain": [
       "{2010: 9, 2011: 1, 2015: 5, 2014: 1, 2012: 1, 2018: 3}"
      ]
     },
     "execution_count": 55,
     "metadata": {},
     "output_type": "execute_result"
    }
   ],
   "source": [
    "year_admission"
   ]
  },
  {
   "cell_type": "markdown",
   "id": "ef162c56",
   "metadata": {},
   "source": [
    "# datetime.strftime"
   ]
  },
  {
   "cell_type": "code",
   "execution_count": 56,
   "id": "e9246df0",
   "metadata": {},
   "outputs": [
    {
     "data": {
      "text/plain": [
       "datetime.datetime(2020, 3, 30, 0, 0)"
      ]
     },
     "execution_count": 56,
     "metadata": {},
     "output_type": "execute_result"
    }
   ],
   "source": [
    "date"
   ]
  },
  {
   "cell_type": "code",
   "execution_count": 57,
   "id": "695fb315",
   "metadata": {},
   "outputs": [
    {
     "data": {
      "text/plain": [
       "2020"
      ]
     },
     "execution_count": 57,
     "metadata": {},
     "output_type": "execute_result"
    }
   ],
   "source": [
    "date.year"
   ]
  },
  {
   "cell_type": "code",
   "execution_count": 58,
   "id": "03949737",
   "metadata": {},
   "outputs": [
    {
     "name": "stdout",
     "output_type": "stream",
     "text": [
      "2\n",
      "8\n",
      "2\n",
      "7\n",
      "7\n",
      "4\n",
      "2\n",
      "3\n",
      "5\n",
      "2\n",
      "2\n",
      "6\n",
      "5\n",
      "2\n",
      "5\n",
      "2\n",
      "5\n",
      "5\n",
      "5\n",
      "2\n"
     ]
    }
   ],
   "source": [
    "for i in dataset:\n",
    "    print(i[1].month)"
   ]
  },
  {
   "cell_type": "code",
   "execution_count": 59,
   "id": "a1cf356f",
   "metadata": {},
   "outputs": [
    {
     "data": {
      "text/plain": [
       "'March'"
      ]
     },
     "execution_count": 59,
     "metadata": {},
     "output_type": "execute_result"
    }
   ],
   "source": [
    "month = date.strftime('%B')\n",
    "month"
   ]
  },
  {
   "cell_type": "code",
   "execution_count": 60,
   "id": "becefe91",
   "metadata": {},
   "outputs": [],
   "source": [
    "month_admission = {}\n",
    "for i in dataset:\n",
    "    month = i[1].strftime('%B')\n",
    "    if month in month_admission:\n",
    "        month_admission[month] += 1\n",
    "    else:\n",
    "        month_admission[month] = 1"
   ]
  },
  {
   "cell_type": "code",
   "execution_count": 61,
   "id": "94337ca5",
   "metadata": {},
   "outputs": [
    {
     "data": {
      "text/plain": [
       "{'February': 8,\n",
       " 'August': 1,\n",
       " 'July': 2,\n",
       " 'April': 1,\n",
       " 'March': 1,\n",
       " 'May': 6,\n",
       " 'June': 1}"
      ]
     },
     "execution_count": 61,
     "metadata": {},
     "output_type": "execute_result"
    }
   ],
   "source": [
    "month_admission"
   ]
  },
  {
   "cell_type": "markdown",
   "id": "da0bd437",
   "metadata": {},
   "source": [
    "# Timedelta"
   ]
  },
  {
   "cell_type": "code",
   "execution_count": 70,
   "id": "954ff5b0",
   "metadata": {},
   "outputs": [
    {
     "name": "stdout",
     "output_type": "stream",
     "text": [
      "2024-09-04 21:18:47.800641\n"
     ]
    }
   ],
   "source": [
    "current_date = dt.datetime.now()\n",
    "print(current_date)"
   ]
  },
  {
   "cell_type": "code",
   "execution_count": 71,
   "id": "b3ade019",
   "metadata": {},
   "outputs": [
    {
     "data": {
      "text/plain": [
       "10"
      ]
     },
     "execution_count": 71,
     "metadata": {},
     "output_type": "execute_result"
    }
   ],
   "source": [
    "admission = 10\n",
    "admission"
   ]
  },
  {
   "cell_type": "code",
   "execution_count": 72,
   "id": "ce5c4631",
   "metadata": {},
   "outputs": [
    {
     "name": "stdout",
     "output_type": "stream",
     "text": [
      "10 days, 0:00:00\n"
     ]
    }
   ],
   "source": [
    "admission = dt.timedelta(days = admission)\n",
    "print(admission)"
   ]
  },
  {
   "cell_type": "code",
   "execution_count": 73,
   "id": "e808dd08",
   "metadata": {},
   "outputs": [
    {
     "name": "stdout",
     "output_type": "stream",
     "text": [
      "2024-09-14 21:18:47.800641\n"
     ]
    }
   ],
   "source": [
    "admission = current_date + admission\n",
    "print(admission)"
   ]
  },
  {
   "cell_type": "code",
   "execution_count": 74,
   "id": "ac008184",
   "metadata": {},
   "outputs": [
    {
     "name": "stdout",
     "output_type": "stream",
     "text": [
      "14/September/2024\n"
     ]
    }
   ],
   "source": [
    "admission = admission.strftime('%d/%B/%Y')\n",
    "print(admission)"
   ]
  },
  {
   "cell_type": "code",
   "execution_count": 81,
   "id": "e5d096f9",
   "metadata": {},
   "outputs": [],
   "source": [
    "start_meeting = '30-Mar-20 4:30PM'\n",
    "end_meeting = '3-Mar-20 8:45PM'\n",
    "pattern = '%d-%b-%y %H:%M%p'"
   ]
  },
  {
   "cell_type": "code",
   "execution_count": 82,
   "id": "0deacf71",
   "metadata": {},
   "outputs": [
    {
     "name": "stdout",
     "output_type": "stream",
     "text": [
      "2020-03-30 04:30:00\n"
     ]
    }
   ],
   "source": [
    "start_meeting = dt.datetime.strptime(start_meeting, pattern)\n",
    "print(start_meeting)"
   ]
  },
  {
   "cell_type": "code",
   "execution_count": 83,
   "id": "c47115e5",
   "metadata": {},
   "outputs": [
    {
     "name": "stdout",
     "output_type": "stream",
     "text": [
      "2020-03-03 08:45:00\n"
     ]
    }
   ],
   "source": [
    "end_meeting = dt.datetime.strptime(end_meeting, pattern)\n",
    "print(end_meeting)"
   ]
  },
  {
   "cell_type": "code",
   "execution_count": 84,
   "id": "070afb6a",
   "metadata": {},
   "outputs": [
    {
     "data": {
      "text/plain": [
       "4"
      ]
     },
     "execution_count": 84,
     "metadata": {},
     "output_type": "execute_result"
    }
   ],
   "source": [
    "start_meeting.hour"
   ]
  },
  {
   "cell_type": "code",
   "execution_count": 85,
   "id": "245bb101",
   "metadata": {},
   "outputs": [
    {
     "data": {
      "text/plain": [
       "30"
      ]
     },
     "execution_count": 85,
     "metadata": {},
     "output_type": "execute_result"
    }
   ],
   "source": [
    "start_meeting.minute"
   ]
  },
  {
   "cell_type": "code",
   "execution_count": 86,
   "id": "00a7076d",
   "metadata": {},
   "outputs": [
    {
     "data": {
      "text/plain": [
       "8"
      ]
     },
     "execution_count": 86,
     "metadata": {},
     "output_type": "execute_result"
    }
   ],
   "source": [
    "end_meeting.hour"
   ]
  },
  {
   "cell_type": "code",
   "execution_count": 87,
   "id": "4cbf5d7b",
   "metadata": {},
   "outputs": [
    {
     "name": "stdout",
     "output_type": "stream",
     "text": [
      "8:45:00\n"
     ]
    }
   ],
   "source": [
    "end = dt.timedelta(hours=end_meeting.hour, minutes=end_meeting.minute)\n",
    "print(end)"
   ]
  },
  {
   "cell_type": "code",
   "execution_count": 88,
   "id": "f03f1d35",
   "metadata": {},
   "outputs": [
    {
     "name": "stdout",
     "output_type": "stream",
     "text": [
      "4:30:00\n"
     ]
    }
   ],
   "source": [
    "start = dt.timedelta(hours=start_meeting.hour, minutes=start_meeting.minute)\n",
    "print(start)"
   ]
  },
  {
   "cell_type": "code",
   "execution_count": 93,
   "id": "27fee545",
   "metadata": {},
   "outputs": [
    {
     "name": "stdout",
     "output_type": "stream",
     "text": [
      "4:15:00\n"
     ]
    }
   ],
   "source": [
    "duration = end - start\n",
    "print(duration)"
   ]
  }
 ],
 "metadata": {
  "kernelspec": {
   "display_name": "Python 3 (ipykernel)",
   "language": "python",
   "name": "python3"
  },
  "language_info": {
   "codemirror_mode": {
    "name": "ipython",
    "version": 3
   },
   "file_extension": ".py",
   "mimetype": "text/x-python",
   "name": "python",
   "nbconvert_exporter": "python",
   "pygments_lexer": "ipython3",
   "version": "3.9.7"
  }
 },
 "nbformat": 4,
 "nbformat_minor": 5
}
