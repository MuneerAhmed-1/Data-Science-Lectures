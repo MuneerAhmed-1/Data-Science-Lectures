{
 "cells": [
  {
   "cell_type": "code",
   "execution_count": 1,
   "id": "8d7dbaaa",
   "metadata": {},
   "outputs": [],
   "source": [
    "emp_name = 'ali'\n",
    "emp_age = 23\n",
    "emp_salary = 25000.0"
   ]
  },
  {
   "cell_type": "code",
   "execution_count": 2,
   "id": "293ded89",
   "metadata": {},
   "outputs": [
    {
     "name": "stdout",
     "output_type": "stream",
     "text": [
      "ali 23 25000.0\n"
     ]
    }
   ],
   "source": [
    "print(emp_name, emp_age, emp_salary)"
   ]
  },
  {
   "cell_type": "code",
   "execution_count": 3,
   "id": "a32c0520",
   "metadata": {},
   "outputs": [],
   "source": [
    "emp1 = ['danish', 21, 50000.0]"
   ]
  },
  {
   "cell_type": "code",
   "execution_count": 4,
   "id": "86f945bc",
   "metadata": {},
   "outputs": [
    {
     "name": "stdout",
     "output_type": "stream",
     "text": [
      "['danish', 21, 50000.0]\n"
     ]
    }
   ],
   "source": [
    "print(emp1)"
   ]
  },
  {
   "cell_type": "code",
   "execution_count": 5,
   "id": "15ed9d2d",
   "metadata": {},
   "outputs": [
    {
     "data": {
      "text/plain": [
       "list"
      ]
     },
     "execution_count": 5,
     "metadata": {},
     "output_type": "execute_result"
    }
   ],
   "source": [
    "type(emp1)"
   ]
  },
  {
   "cell_type": "code",
   "execution_count": 6,
   "id": "074de34f",
   "metadata": {},
   "outputs": [],
   "source": [
    "emp2 = [emp_name, emp_age, emp_salary]"
   ]
  },
  {
   "cell_type": "code",
   "execution_count": 7,
   "id": "04710987",
   "metadata": {},
   "outputs": [
    {
     "name": "stdout",
     "output_type": "stream",
     "text": [
      "['ali', 23, 25000.0]\n"
     ]
    }
   ],
   "source": [
    "print(emp2)"
   ]
  },
  {
   "cell_type": "code",
   "execution_count": 10,
   "id": "4b397421",
   "metadata": {},
   "outputs": [
    {
     "name": "stdout",
     "output_type": "stream",
     "text": [
      "['aliza', 150000.0]\n"
     ]
    }
   ],
   "source": [
    "emp3 = ['aliza', 150000.0]\n",
    "print(emp3)"
   ]
  },
  {
   "cell_type": "code",
   "execution_count": 9,
   "id": "76194516",
   "metadata": {},
   "outputs": [
    {
     "name": "stdout",
     "output_type": "stream",
     "text": [
      "['aisha', 20000.0]\n"
     ]
    }
   ],
   "source": [
    "emp4 = ['aisha', 20000.0]\n",
    "print(emp4)"
   ]
  },
  {
   "cell_type": "code",
   "execution_count": 11,
   "id": "631fb435",
   "metadata": {},
   "outputs": [
    {
     "name": "stdout",
     "output_type": "stream",
     "text": [
      "50000.0\n"
     ]
    }
   ],
   "source": [
    "print(emp1[2])"
   ]
  },
  {
   "cell_type": "code",
   "execution_count": 12,
   "id": "c13a606d",
   "metadata": {},
   "outputs": [
    {
     "name": "stdout",
     "output_type": "stream",
     "text": [
      "aisha\n"
     ]
    }
   ],
   "source": [
    "print(emp4[0])"
   ]
  },
  {
   "cell_type": "code",
   "execution_count": 14,
   "id": "12b5af1e",
   "metadata": {},
   "outputs": [
    {
     "data": {
      "text/plain": [
       "['danish', 21, 50000.0, 'male']"
      ]
     },
     "execution_count": 14,
     "metadata": {},
     "output_type": "execute_result"
    }
   ],
   "source": [
    "emp1.append('male')\n",
    "emp1"
   ]
  },
  {
   "cell_type": "code",
   "execution_count": 15,
   "id": "9e257875",
   "metadata": {},
   "outputs": [
    {
     "data": {
      "text/plain": [
       "['ali', 23, 25000.0, 'male']"
      ]
     },
     "execution_count": 15,
     "metadata": {},
     "output_type": "execute_result"
    }
   ],
   "source": [
    "emp2.append('male')\n",
    "emp2"
   ]
  },
  {
   "cell_type": "code",
   "execution_count": 16,
   "id": "e0bf1a47",
   "metadata": {},
   "outputs": [
    {
     "data": {
      "text/plain": [
       "['aliza', 150000.0, 'female']"
      ]
     },
     "execution_count": 16,
     "metadata": {},
     "output_type": "execute_result"
    }
   ],
   "source": [
    "emp3.append('female')\n",
    "emp3"
   ]
  },
  {
   "cell_type": "code",
   "execution_count": 17,
   "id": "51b6ab37",
   "metadata": {},
   "outputs": [
    {
     "data": {
      "text/plain": [
       "['aisha', 20000.0, 'female']"
      ]
     },
     "execution_count": 17,
     "metadata": {},
     "output_type": "execute_result"
    }
   ],
   "source": [
    "emp4.append('female')\n",
    "emp4"
   ]
  },
  {
   "cell_type": "markdown",
   "id": "119096eb",
   "metadata": {},
   "source": [
    "# We have two type of indexing"
   ]
  },
  {
   "cell_type": "markdown",
   "id": "0ada3a6e",
   "metadata": {},
   "source": [
    "- positive (start from 0) direction: left to right\n",
    "- negative (start from -1) direction: right to left"
   ]
  },
  {
   "cell_type": "code",
   "execution_count": 19,
   "id": "3a2781d0",
   "metadata": {},
   "outputs": [
    {
     "name": "stdout",
     "output_type": "stream",
     "text": [
      "danish\n"
     ]
    }
   ],
   "source": [
    "print(emp1[-4])"
   ]
  },
  {
   "cell_type": "code",
   "execution_count": 20,
   "id": "c7b890fa",
   "metadata": {},
   "outputs": [
    {
     "name": "stdout",
     "output_type": "stream",
     "text": [
      "25000.0\n"
     ]
    }
   ],
   "source": [
    "print(emp2[2])"
   ]
  },
  {
   "cell_type": "code",
   "execution_count": 21,
   "id": "e894090c",
   "metadata": {},
   "outputs": [
    {
     "name": "stdout",
     "output_type": "stream",
     "text": [
      "25000.0\n"
     ]
    }
   ],
   "source": [
    "print(emp2[-2])"
   ]
  },
  {
   "cell_type": "code",
   "execution_count": 23,
   "id": "5dd44610",
   "metadata": {},
   "outputs": [
    {
     "name": "stdout",
     "output_type": "stream",
     "text": [
      "23 25000.0 male\n"
     ]
    }
   ],
   "source": [
    "print(emp2[1], emp2[2], emp2[-1])"
   ]
  },
  {
   "cell_type": "code",
   "execution_count": 24,
   "id": "a2abf724",
   "metadata": {},
   "outputs": [
    {
     "data": {
      "text/plain": [
       "['ali', 23, 25000.0, 'male']"
      ]
     },
     "execution_count": 24,
     "metadata": {},
     "output_type": "execute_result"
    }
   ],
   "source": [
    "emp2"
   ]
  },
  {
   "cell_type": "markdown",
   "id": "3d46e97b",
   "metadata": {},
   "source": [
    "# Slicing"
   ]
  },
  {
   "cell_type": "code",
   "execution_count": 28,
   "id": "195e79ca",
   "metadata": {},
   "outputs": [
    {
     "data": {
      "text/plain": [
       "['ali', 23, 25000.0, 'male']"
      ]
     },
     "execution_count": 28,
     "metadata": {},
     "output_type": "execute_result"
    }
   ],
   "source": [
    "emp2"
   ]
  },
  {
   "cell_type": "code",
   "execution_count": 25,
   "id": "2c14186a",
   "metadata": {},
   "outputs": [
    {
     "name": "stdout",
     "output_type": "stream",
     "text": [
      "23 25000.0 male\n"
     ]
    }
   ],
   "source": [
    "print(emp2[1], emp2[2], emp2[3])"
   ]
  },
  {
   "cell_type": "code",
   "execution_count": 26,
   "id": "ff17a94f",
   "metadata": {},
   "outputs": [
    {
     "name": "stdout",
     "output_type": "stream",
     "text": [
      "[23, 25000.0, 'male']\n"
     ]
    }
   ],
   "source": [
    "print(emp2[1:4])"
   ]
  },
  {
   "cell_type": "code",
   "execution_count": 35,
   "id": "d303ae5e",
   "metadata": {},
   "outputs": [
    {
     "name": "stdout",
     "output_type": "stream",
     "text": [
      "['ali', 23, 25000.0]\n"
     ]
    }
   ],
   "source": [
    "print(emp2[:3])"
   ]
  },
  {
   "cell_type": "code",
   "execution_count": 36,
   "id": "6afc87f9",
   "metadata": {},
   "outputs": [
    {
     "name": "stdout",
     "output_type": "stream",
     "text": [
      "['ali', 23, 25000.0, 'male']\n"
     ]
    }
   ],
   "source": [
    "print(emp2[:])"
   ]
  },
  {
   "cell_type": "markdown",
   "id": "56006789",
   "metadata": {},
   "source": [
    "# Update and delete a List Value"
   ]
  },
  {
   "cell_type": "code",
   "execution_count": 37,
   "id": "a4276633",
   "metadata": {},
   "outputs": [
    {
     "data": {
      "text/plain": [
       "['danish', 21, 50000.0, 'male']"
      ]
     },
     "execution_count": 37,
     "metadata": {},
     "output_type": "execute_result"
    }
   ],
   "source": [
    "emp1"
   ]
  },
  {
   "cell_type": "code",
   "execution_count": 38,
   "id": "7028515f",
   "metadata": {},
   "outputs": [],
   "source": [
    "emp1[0] = 'Danial'"
   ]
  },
  {
   "cell_type": "code",
   "execution_count": 39,
   "id": "7e21e030",
   "metadata": {},
   "outputs": [
    {
     "data": {
      "text/plain": [
       "['Danial', 21, 50000.0, 'male']"
      ]
     },
     "execution_count": 39,
     "metadata": {},
     "output_type": "execute_result"
    }
   ],
   "source": [
    "emp1"
   ]
  },
  {
   "cell_type": "code",
   "execution_count": 40,
   "id": "eb61c081",
   "metadata": {},
   "outputs": [],
   "source": [
    "emp1[-2] = 70000"
   ]
  },
  {
   "cell_type": "code",
   "execution_count": 41,
   "id": "5fd704e3",
   "metadata": {},
   "outputs": [
    {
     "data": {
      "text/plain": [
       "['Danial', 21, 70000, 'male']"
      ]
     },
     "execution_count": 41,
     "metadata": {},
     "output_type": "execute_result"
    }
   ],
   "source": [
    "emp1 "
   ]
  },
  {
   "cell_type": "code",
   "execution_count": 45,
   "id": "b1394c4d",
   "metadata": {},
   "outputs": [
    {
     "data": {
      "text/plain": [
       "1"
      ]
     },
     "execution_count": 45,
     "metadata": {},
     "output_type": "execute_result"
    }
   ],
   "source": [
    "emp1.index(21)"
   ]
  },
  {
   "cell_type": "code",
   "execution_count": 46,
   "id": "eb64e915",
   "metadata": {},
   "outputs": [
    {
     "data": {
      "text/plain": [
       "21"
      ]
     },
     "execution_count": 46,
     "metadata": {},
     "output_type": "execute_result"
    }
   ],
   "source": [
    "emp1[1]"
   ]
  },
  {
   "cell_type": "code",
   "execution_count": 47,
   "id": "e093ae0d",
   "metadata": {},
   "outputs": [
    {
     "name": "stdout",
     "output_type": "stream",
     "text": [
      "['Danial', 22, 70000, 'male']\n"
     ]
    }
   ],
   "source": [
    "emp1[emp1.index(21)] = 22\n",
    "print(emp1)"
   ]
  },
  {
   "cell_type": "code",
   "execution_count": 48,
   "id": "1eadf2a5",
   "metadata": {},
   "outputs": [],
   "source": [
    "emp1.append('karachi')"
   ]
  },
  {
   "cell_type": "code",
   "execution_count": 49,
   "id": "0feee82a",
   "metadata": {},
   "outputs": [
    {
     "data": {
      "text/plain": [
       "['Danial', 22, 70000, 'male', 'karachi']"
      ]
     },
     "execution_count": 49,
     "metadata": {},
     "output_type": "execute_result"
    }
   ],
   "source": [
    "emp1"
   ]
  },
  {
   "cell_type": "code",
   "execution_count": 50,
   "id": "b6eed89c",
   "metadata": {},
   "outputs": [
    {
     "data": {
      "text/plain": [
       "'karachi'"
      ]
     },
     "execution_count": 50,
     "metadata": {},
     "output_type": "execute_result"
    }
   ],
   "source": [
    "emp1.pop()"
   ]
  },
  {
   "cell_type": "code",
   "execution_count": 51,
   "id": "30d5e80f",
   "metadata": {},
   "outputs": [
    {
     "data": {
      "text/plain": [
       "['Danial', 22, 70000, 'male']"
      ]
     },
     "execution_count": 51,
     "metadata": {},
     "output_type": "execute_result"
    }
   ],
   "source": [
    "emp1"
   ]
  },
  {
   "cell_type": "code",
   "execution_count": 52,
   "id": "f01f4eda",
   "metadata": {},
   "outputs": [],
   "source": [
    "emp1.append('lahore')"
   ]
  },
  {
   "cell_type": "code",
   "execution_count": 53,
   "id": "a08b84f6",
   "metadata": {},
   "outputs": [
    {
     "data": {
      "text/plain": [
       "['Danial', 22, 70000, 'male', 'lahore']"
      ]
     },
     "execution_count": 53,
     "metadata": {},
     "output_type": "execute_result"
    }
   ],
   "source": [
    "emp1"
   ]
  },
  {
   "cell_type": "code",
   "execution_count": 54,
   "id": "4016b999",
   "metadata": {},
   "outputs": [
    {
     "data": {
      "text/plain": [
       "'lahore'"
      ]
     },
     "execution_count": 54,
     "metadata": {},
     "output_type": "execute_result"
    }
   ],
   "source": [
    "emp1.pop(4)"
   ]
  },
  {
   "cell_type": "code",
   "execution_count": 57,
   "id": "295beb78",
   "metadata": {},
   "outputs": [],
   "source": [
    "emp1.append('islamabad')"
   ]
  },
  {
   "cell_type": "code",
   "execution_count": 58,
   "id": "04193344",
   "metadata": {},
   "outputs": [
    {
     "data": {
      "text/plain": [
       "['Danial', 22, 70000, 'male', 'islamabad']"
      ]
     },
     "execution_count": 58,
     "metadata": {},
     "output_type": "execute_result"
    }
   ],
   "source": [
    "emp1"
   ]
  },
  {
   "cell_type": "code",
   "execution_count": 59,
   "id": "15fd460d",
   "metadata": {},
   "outputs": [],
   "source": [
    "emp1.remove('islamabad')"
   ]
  },
  {
   "cell_type": "code",
   "execution_count": 60,
   "id": "ece85b71",
   "metadata": {},
   "outputs": [
    {
     "data": {
      "text/plain": [
       "['Danial', 22, 70000, 'male']"
      ]
     },
     "execution_count": 60,
     "metadata": {},
     "output_type": "execute_result"
    }
   ],
   "source": [
    "emp1"
   ]
  }
 ],
 "metadata": {
  "kernelspec": {
   "display_name": "Python 3 (ipykernel)",
   "language": "python",
   "name": "python3"
  },
  "language_info": {
   "codemirror_mode": {
    "name": "ipython",
    "version": 3
   },
   "file_extension": ".py",
   "mimetype": "text/x-python",
   "name": "python",
   "nbconvert_exporter": "python",
   "pygments_lexer": "ipython3",
   "version": "3.9.7"
  }
 },
 "nbformat": 4,
 "nbformat_minor": 5
}
