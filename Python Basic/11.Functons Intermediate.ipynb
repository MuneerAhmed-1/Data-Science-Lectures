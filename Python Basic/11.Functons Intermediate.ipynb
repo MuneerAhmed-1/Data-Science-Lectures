{
 "cells": [
  {
   "cell_type": "code",
   "execution_count": 1,
   "id": "a3fb8ec1",
   "metadata": {},
   "outputs": [],
   "source": [
    "def read_file(file_name):\n",
    "    from csv import reader\n",
    "    return list(reader(open(file_name, encoding = 'utf-8')))"
   ]
  },
  {
   "cell_type": "code",
   "execution_count": 3,
   "id": "d814c291",
   "metadata": {},
   "outputs": [],
   "source": [
    "applestore = read_file('AppleStore.csv')"
   ]
  },
  {
   "cell_type": "code",
   "execution_count": 5,
   "id": "78741920",
   "metadata": {},
   "outputs": [
    {
     "data": {
      "text/plain": [
       "['id',\n",
       " 'track_name',\n",
       " 'size_bytes',\n",
       " 'currency',\n",
       " 'price',\n",
       " 'rating_count_tot',\n",
       " 'rating_count_ver',\n",
       " 'user_rating',\n",
       " 'user_rating_ver',\n",
       " 'ver',\n",
       " 'cont_rating',\n",
       " 'prime_genre',\n",
       " 'sup_devices.num',\n",
       " 'ipadSc_urls.num',\n",
       " 'lang.num',\n",
       " 'vpp_lic']"
      ]
     },
     "execution_count": 5,
     "metadata": {},
     "output_type": "execute_result"
    }
   ],
   "source": [
    "applestore[0]"
   ]
  },
  {
   "cell_type": "markdown",
   "id": "aea992b5",
   "metadata": {},
   "source": [
    "# Create a function for frequency table:\n",
    "    - first parameter = dataset\n",
    "    - second parameter = col index number"
   ]
  },
  {
   "cell_type": "code",
   "execution_count": 16,
   "id": "05866c86",
   "metadata": {},
   "outputs": [],
   "source": [
    "def frq_table(dataset, col_index):\n",
    "    dictionary = {}\n",
    "    for i in dataset[1:]:\n",
    "        value = i[col_index]\n",
    "        if value in dictionary:\n",
    "            dictionary[value] += 1\n",
    "        else:\n",
    "            dictionary[value] = 1\n",
    "    return dictionary"
   ]
  },
  {
   "cell_type": "code",
   "execution_count": 18,
   "id": "afcd14b4",
   "metadata": {},
   "outputs": [
    {
     "data": {
      "text/plain": [
       "{'Social Networking': 167,\n",
       " 'Photo & Video': 349,\n",
       " 'Games': 3862,\n",
       " 'Music': 138,\n",
       " 'Reference': 64,\n",
       " 'Health & Fitness': 180,\n",
       " 'Weather': 72,\n",
       " 'Utilities': 248,\n",
       " 'Travel': 81,\n",
       " 'Shopping': 122,\n",
       " 'News': 75,\n",
       " 'Navigation': 46,\n",
       " 'Lifestyle': 144,\n",
       " 'Entertainment': 535,\n",
       " 'Food & Drink': 63,\n",
       " 'Sports': 114,\n",
       " 'Book': 112,\n",
       " 'Finance': 104,\n",
       " 'Education': 453,\n",
       " 'Productivity': 178,\n",
       " 'Business': 57,\n",
       " 'Catalogs': 10,\n",
       " 'Medical': 23}"
      ]
     },
     "execution_count": 18,
     "metadata": {},
     "output_type": "execute_result"
    }
   ],
   "source": [
    "frq_table(applestore, -5)"
   ]
  },
  {
   "cell_type": "code",
   "execution_count": 19,
   "id": "c3c4844b",
   "metadata": {},
   "outputs": [
    {
     "data": {
      "text/plain": [
       "{'3.5': 702,\n",
       " '4.5': 2663,\n",
       " '4': 1626,\n",
       " '3': 383,\n",
       " '5': 492,\n",
       " '2.5': 196,\n",
       " '2': 106,\n",
       " '1.5': 56,\n",
       " '1': 44,\n",
       " '0': 929}"
      ]
     },
     "execution_count": 19,
     "metadata": {},
     "output_type": "execute_result"
    }
   ],
   "source": [
    "frq_table(applestore, 7)"
   ]
  },
  {
   "cell_type": "markdown",
   "id": "7e751d16",
   "metadata": {},
   "source": [
    "# Class Task:"
   ]
  },
  {
   "cell_type": "markdown",
   "id": "e2a4ab70",
   "metadata": {},
   "source": [
    "# Create a function for frq Table:\n",
    "    - first parameter = dataset\n",
    "    - second parameter = col name"
   ]
  },
  {
   "cell_type": "code",
   "execution_count": 26,
   "id": "89e0dcbc",
   "metadata": {},
   "outputs": [],
   "source": [
    "def frq_table(dataset, col_name):\n",
    "    dictionary = {}\n",
    "    col_index = dataset[0].index(col_name)\n",
    "    for i in dataset[1:]:\n",
    "        value = i[col_index]\n",
    "        if value in dictionary:\n",
    "            dictionary[value] += 1\n",
    "        else:\n",
    "            dictionary[value] = 1\n",
    "    return dictionary"
   ]
  },
  {
   "cell_type": "code",
   "execution_count": 27,
   "id": "d346b842",
   "metadata": {},
   "outputs": [
    {
     "data": {
      "text/plain": [
       "{'Social Networking': 167,\n",
       " 'Photo & Video': 349,\n",
       " 'Games': 3862,\n",
       " 'Music': 138,\n",
       " 'Reference': 64,\n",
       " 'Health & Fitness': 180,\n",
       " 'Weather': 72,\n",
       " 'Utilities': 248,\n",
       " 'Travel': 81,\n",
       " 'Shopping': 122,\n",
       " 'News': 75,\n",
       " 'Navigation': 46,\n",
       " 'Lifestyle': 144,\n",
       " 'Entertainment': 535,\n",
       " 'Food & Drink': 63,\n",
       " 'Sports': 114,\n",
       " 'Book': 112,\n",
       " 'Finance': 104,\n",
       " 'Education': 453,\n",
       " 'Productivity': 178,\n",
       " 'Business': 57,\n",
       " 'Catalogs': 10,\n",
       " 'Medical': 23}"
      ]
     },
     "execution_count": 27,
     "metadata": {},
     "output_type": "execute_result"
    }
   ],
   "source": [
    "frq_table(applestore, 'prime_genre')"
   ]
  }
 ],
 "metadata": {
  "kernelspec": {
   "display_name": "Python 3 (ipykernel)",
   "language": "python",
   "name": "python3"
  },
  "language_info": {
   "codemirror_mode": {
    "name": "ipython",
    "version": 3
   },
   "file_extension": ".py",
   "mimetype": "text/x-python",
   "name": "python",
   "nbconvert_exporter": "python",
   "pygments_lexer": "ipython3",
   "version": "3.9.7"
  }
 },
 "nbformat": 4,
 "nbformat_minor": 5
}
