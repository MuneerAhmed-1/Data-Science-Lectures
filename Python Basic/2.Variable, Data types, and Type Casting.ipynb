{
 "cells": [
  {
   "cell_type": "markdown",
   "id": "4b26ac26",
   "metadata": {},
   "source": [
    "# Variable Declaration and Initialization Syntax\n",
    "- variable name = value\n",
    "- assignment operator (=)"
   ]
  },
  {
   "cell_type": "code",
   "execution_count": 36,
   "id": "1b4d03ee",
   "metadata": {},
   "outputs": [],
   "source": [
    "A123 = 68"
   ]
  },
  {
   "cell_type": "code",
   "execution_count": 37,
   "id": "0c3f2331",
   "metadata": {},
   "outputs": [
    {
     "name": "stdout",
     "output_type": "stream",
     "text": [
      "68\n"
     ]
    }
   ],
   "source": [
    "print(A123)"
   ]
  },
  {
   "cell_type": "code",
   "execution_count": 38,
   "id": "8d06c506",
   "metadata": {},
   "outputs": [
    {
     "name": "stdout",
     "output_type": "stream",
     "text": [
      "9\n"
     ]
    }
   ],
   "source": [
    "a = 9\n",
    "print(a)"
   ]
  },
  {
   "cell_type": "code",
   "execution_count": 39,
   "id": "9f21dacd",
   "metadata": {},
   "outputs": [
    {
     "name": "stdout",
     "output_type": "stream",
     "text": [
      "12\n"
     ]
    }
   ],
   "source": [
    "b = 12\n",
    "print(b)"
   ]
  },
  {
   "cell_type": "code",
   "execution_count": 40,
   "id": "4cf61e0f",
   "metadata": {},
   "outputs": [
    {
     "name": "stdout",
     "output_type": "stream",
     "text": [
      "21\n"
     ]
    }
   ],
   "source": [
    "c = a + b\n",
    "print(c)"
   ]
  },
  {
   "cell_type": "markdown",
   "id": "5a65a2fb",
   "metadata": {},
   "source": [
    "# Legal Variable:\n",
    "    - must begin with a letter (a-z, A-Z) or underscore _\n",
    "    - other characters can be letter, numbers or _"
   ]
  },
  {
   "cell_type": "code",
   "execution_count": 41,
   "id": "4b042de1",
   "metadata": {},
   "outputs": [],
   "source": [
    "_ = 5"
   ]
  },
  {
   "cell_type": "code",
   "execution_count": 42,
   "id": "087fca6d",
   "metadata": {},
   "outputs": [
    {
     "data": {
      "text/plain": [
       "5"
      ]
     },
     "execution_count": 42,
     "metadata": {},
     "output_type": "execute_result"
    }
   ],
   "source": [
    "_"
   ]
  },
  {
   "cell_type": "code",
   "execution_count": 43,
   "id": "8f63d236",
   "metadata": {},
   "outputs": [],
   "source": [
    "st_position1 = \"Ali\""
   ]
  },
  {
   "cell_type": "code",
   "execution_count": 44,
   "id": "0f0d755b",
   "metadata": {},
   "outputs": [
    {
     "data": {
      "text/plain": [
       "'Ali'"
      ]
     },
     "execution_count": 44,
     "metadata": {},
     "output_type": "execute_result"
    }
   ],
   "source": [
    "st_position1"
   ]
  },
  {
   "cell_type": "code",
   "execution_count": 45,
   "id": "078f9552",
   "metadata": {},
   "outputs": [
    {
     "name": "stdout",
     "output_type": "stream",
     "text": [
      "Muneer 22 50000.0\n"
     ]
    }
   ],
   "source": [
    "emplyoyee_name = 'Muneer'\n",
    "employee_age = 22\n",
    "employee_salary = 50000.0\n",
    "print(emplyoyee_name, employee_age, employee_salary)"
   ]
  },
  {
   "cell_type": "code",
   "execution_count": 46,
   "id": "43c0fa4e",
   "metadata": {},
   "outputs": [
    {
     "name": "stdout",
     "output_type": "stream",
     "text": [
      "<class 'str'> <class 'int'> <class 'float'>\n"
     ]
    }
   ],
   "source": [
    "print(type(emplyoyee_name), type(employee_age), type(employee_salary))"
   ]
  },
  {
   "cell_type": "markdown",
   "id": "09ff32f3",
   "metadata": {},
   "source": [
    "# Special Assignment Operator"
   ]
  },
  {
   "cell_type": "code",
   "execution_count": 47,
   "id": "fe4f44e8",
   "metadata": {},
   "outputs": [
    {
     "name": "stdout",
     "output_type": "stream",
     "text": [
      "15\n"
     ]
    }
   ],
   "source": [
    "num1 = 5\n",
    "num1 = num1 + 10\n",
    "print(num1)"
   ]
  },
  {
   "cell_type": "code",
   "execution_count": 48,
   "id": "1dac68e6",
   "metadata": {},
   "outputs": [
    {
     "name": "stdout",
     "output_type": "stream",
     "text": [
      "15\n"
     ]
    }
   ],
   "source": [
    "num1 = 5\n",
    "num1 += 10\n",
    "print(num1)"
   ]
  },
  {
   "cell_type": "code",
   "execution_count": 49,
   "id": "14714c96",
   "metadata": {},
   "outputs": [
    {
     "name": "stdout",
     "output_type": "stream",
     "text": [
      "13\n"
     ]
    }
   ],
   "source": [
    "num1 -= 2\n",
    "print(num1)"
   ]
  },
  {
   "cell_type": "code",
   "execution_count": 50,
   "id": "0c5438d3",
   "metadata": {},
   "outputs": [
    {
     "name": "stdout",
     "output_type": "stream",
     "text": [
      "26\n"
     ]
    }
   ],
   "source": [
    "num1 *= 2\n",
    "print(num1)"
   ]
  },
  {
   "cell_type": "code",
   "execution_count": 51,
   "id": "55ab29e7",
   "metadata": {},
   "outputs": [
    {
     "name": "stdout",
     "output_type": "stream",
     "text": [
      "4.333333333333333\n"
     ]
    }
   ],
   "source": [
    "num1 /= 6\n",
    "print(num1)"
   ]
  },
  {
   "cell_type": "markdown",
   "id": "fb500ae4",
   "metadata": {},
   "source": [
    "# Type Casting"
   ]
  },
  {
   "cell_type": "code",
   "execution_count": 52,
   "id": "d9a99ba4",
   "metadata": {},
   "outputs": [
    {
     "name": "stdout",
     "output_type": "stream",
     "text": [
      "<class 'int'>\n"
     ]
    }
   ],
   "source": [
    "print(type(5))"
   ]
  },
  {
   "cell_type": "code",
   "execution_count": 53,
   "id": "de3ac1b0",
   "metadata": {},
   "outputs": [
    {
     "name": "stdout",
     "output_type": "stream",
     "text": [
      "5.0\n"
     ]
    }
   ],
   "source": [
    "print(float(5))"
   ]
  },
  {
   "cell_type": "code",
   "execution_count": 54,
   "id": "b0c6e006",
   "metadata": {},
   "outputs": [
    {
     "name": "stdout",
     "output_type": "stream",
     "text": [
      "5\n"
     ]
    }
   ],
   "source": [
    "print(int(5.2))"
   ]
  },
  {
   "cell_type": "code",
   "execution_count": 59,
   "id": "33c8567f",
   "metadata": {},
   "outputs": [
    {
     "name": "stdout",
     "output_type": "stream",
     "text": [
      "<class 'str'>\n"
     ]
    }
   ],
   "source": [
    "num1 = '2.3'\n",
    "print(type(num1))"
   ]
  },
  {
   "cell_type": "code",
   "execution_count": 63,
   "id": "84217170",
   "metadata": {},
   "outputs": [
    {
     "name": "stdout",
     "output_type": "stream",
     "text": [
      "2.3\n"
     ]
    }
   ],
   "source": [
    "num1 = '2.3'\n",
    "print(float(num1))"
   ]
  },
  {
   "cell_type": "code",
   "execution_count": 65,
   "id": "bfe3eb78",
   "metadata": {},
   "outputs": [
    {
     "name": "stdout",
     "output_type": "stream",
     "text": [
      "2.3\n"
     ]
    }
   ],
   "source": [
    "print(num1)"
   ]
  },
  {
   "cell_type": "code",
   "execution_count": 69,
   "id": "f8315a18",
   "metadata": {},
   "outputs": [
    {
     "name": "stdout",
     "output_type": "stream",
     "text": [
      "2\n"
     ]
    }
   ],
   "source": [
    "num1 = 2.3\n",
    "print(int(num1))"
   ]
  },
  {
   "cell_type": "code",
   "execution_count": 70,
   "id": "8822bc7e",
   "metadata": {},
   "outputs": [
    {
     "ename": "ValueError",
     "evalue": "could not convert string to float: 'ali'",
     "output_type": "error",
     "traceback": [
      "\u001b[1;31m---------------------------------------------------------------------------\u001b[0m",
      "\u001b[1;31mValueError\u001b[0m                                Traceback (most recent call last)",
      "\u001b[1;32m~\\AppData\\Local\\Temp/ipykernel_17428/4079886004.py\u001b[0m in \u001b[0;36m<module>\u001b[1;34m\u001b[0m\n\u001b[1;32m----> 1\u001b[1;33m \u001b[0mfloat\u001b[0m\u001b[1;33m(\u001b[0m\u001b[1;34m'ali'\u001b[0m\u001b[1;33m)\u001b[0m\u001b[1;33m\u001b[0m\u001b[1;33m\u001b[0m\u001b[0m\n\u001b[0m",
      "\u001b[1;31mValueError\u001b[0m: could not convert string to float: 'ali'"
     ]
    }
   ],
   "source": [
    "float('ali')"
   ]
  }
 ],
 "metadata": {
  "kernelspec": {
   "display_name": "Python 3 (ipykernel)",
   "language": "python",
   "name": "python3"
  },
  "language_info": {
   "codemirror_mode": {
    "name": "ipython",
    "version": 3
   },
   "file_extension": ".py",
   "mimetype": "text/x-python",
   "name": "python",
   "nbconvert_exporter": "python",
   "pygments_lexer": "ipython3",
   "version": "3.9.7"
  }
 },
 "nbformat": 4,
 "nbformat_minor": 5
}
