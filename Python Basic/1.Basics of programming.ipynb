{
 "cells": [
  {
   "cell_type": "markdown",
   "id": "33f543f6",
   "metadata": {},
   "source": [
    "# 1st Class:\n",
    "    - integer, float, string\n",
    "    - print(), type()\n",
    "    - Airthmetic Operator (+,-,*,/,//,%,**)"
   ]
  },
  {
   "cell_type": "code",
   "execution_count": 3,
   "id": "f4af6957",
   "metadata": {},
   "outputs": [],
   "source": [
    "#integer\n",
    "#1, 2, 3, 4, 5"
   ]
  },
  {
   "cell_type": "code",
   "execution_count": 4,
   "id": "c9e0e4dd",
   "metadata": {},
   "outputs": [],
   "source": [
    "#float\n",
    "#1.1, 2.2, 3.3"
   ]
  },
  {
   "cell_type": "code",
   "execution_count": 5,
   "id": "f9a12e5c",
   "metadata": {},
   "outputs": [],
   "source": [
    "#string\n",
    "#\"Muneer Ahmed\""
   ]
  },
  {
   "cell_type": "code",
   "execution_count": 6,
   "id": "309a273d",
   "metadata": {},
   "outputs": [
    {
     "name": "stdout",
     "output_type": "stream",
     "text": [
      "2.5\n"
     ]
    }
   ],
   "source": [
    "print(2.5)"
   ]
  },
  {
   "cell_type": "code",
   "execution_count": 7,
   "id": "973327f9",
   "metadata": {},
   "outputs": [
    {
     "name": "stdout",
     "output_type": "stream",
     "text": [
      "Hello World\n"
     ]
    }
   ],
   "source": [
    "print(\"Hello World\")"
   ]
  },
  {
   "cell_type": "code",
   "execution_count": 9,
   "id": "fded5fdb",
   "metadata": {},
   "outputs": [
    {
     "name": "stdout",
     "output_type": "stream",
     "text": [
      "<class 'int'>\n"
     ]
    }
   ],
   "source": [
    "print(type(2))"
   ]
  },
  {
   "cell_type": "code",
   "execution_count": 10,
   "id": "8a85fa50",
   "metadata": {},
   "outputs": [
    {
     "name": "stdout",
     "output_type": "stream",
     "text": [
      "<class 'float'>\n"
     ]
    }
   ],
   "source": [
    "print(type(2.5))"
   ]
  },
  {
   "cell_type": "code",
   "execution_count": 11,
   "id": "ccd126dd",
   "metadata": {},
   "outputs": [
    {
     "name": "stdout",
     "output_type": "stream",
     "text": [
      "<class 'str'>\n"
     ]
    }
   ],
   "source": [
    "print(type(\"Muneer\"))"
   ]
  },
  {
   "cell_type": "code",
   "execution_count": 12,
   "id": "4226e774",
   "metadata": {},
   "outputs": [
    {
     "name": "stdout",
     "output_type": "stream",
     "text": [
      "4\n"
     ]
    }
   ],
   "source": [
    "print(2+2)"
   ]
  },
  {
   "cell_type": "code",
   "execution_count": 13,
   "id": "70127025",
   "metadata": {},
   "outputs": [
    {
     "name": "stdout",
     "output_type": "stream",
     "text": [
      "4.5\n"
     ]
    }
   ],
   "source": [
    "print(2+2.5)"
   ]
  },
  {
   "cell_type": "code",
   "execution_count": 14,
   "id": "ca726941",
   "metadata": {},
   "outputs": [
    {
     "ename": "TypeError",
     "evalue": "unsupported operand type(s) for +: 'int' and 'str'",
     "output_type": "error",
     "traceback": [
      "\u001b[1;31m---------------------------------------------------------------------------\u001b[0m",
      "\u001b[1;31mTypeError\u001b[0m                                 Traceback (most recent call last)",
      "\u001b[1;32m~\\AppData\\Local\\Temp/ipykernel_5996/3300605679.py\u001b[0m in \u001b[0;36m<module>\u001b[1;34m\u001b[0m\n\u001b[1;32m----> 1\u001b[1;33m \u001b[0mprint\u001b[0m\u001b[1;33m(\u001b[0m\u001b[1;36m2\u001b[0m\u001b[1;33m+\u001b[0m\u001b[1;34m'2'\u001b[0m\u001b[1;33m)\u001b[0m\u001b[1;33m\u001b[0m\u001b[1;33m\u001b[0m\u001b[0m\n\u001b[0m",
      "\u001b[1;31mTypeError\u001b[0m: unsupported operand type(s) for +: 'int' and 'str'"
     ]
    }
   ],
   "source": [
    "print(2+'2')"
   ]
  },
  {
   "cell_type": "code",
   "execution_count": 19,
   "id": "3d2635c7",
   "metadata": {},
   "outputs": [
    {
     "name": "stdout",
     "output_type": "stream",
     "text": [
      "2.5\n"
     ]
    }
   ],
   "source": [
    "print(5/2)"
   ]
  },
  {
   "cell_type": "code",
   "execution_count": 20,
   "id": "c7eae97d",
   "metadata": {},
   "outputs": [
    {
     "name": "stdout",
     "output_type": "stream",
     "text": [
      "2\n"
     ]
    }
   ],
   "source": [
    "print(5//2)"
   ]
  },
  {
   "cell_type": "code",
   "execution_count": 21,
   "id": "01fc3ae2",
   "metadata": {},
   "outputs": [
    {
     "name": "stdout",
     "output_type": "stream",
     "text": [
      "20\n"
     ]
    }
   ],
   "source": [
    "print(4*5)"
   ]
  },
  {
   "cell_type": "code",
   "execution_count": 22,
   "id": "6d66cddc",
   "metadata": {},
   "outputs": [
    {
     "name": "stdout",
     "output_type": "stream",
     "text": [
      "16\n"
     ]
    }
   ],
   "source": [
    "print(4**2)"
   ]
  },
  {
   "cell_type": "code",
   "execution_count": 23,
   "id": "e63a251e",
   "metadata": {},
   "outputs": [
    {
     "name": "stdout",
     "output_type": "stream",
     "text": [
      "2\n"
     ]
    }
   ],
   "source": [
    "print(10%4)"
   ]
  },
  {
   "cell_type": "code",
   "execution_count": 24,
   "id": "a3278e8c",
   "metadata": {},
   "outputs": [
    {
     "name": "stdout",
     "output_type": "stream",
     "text": [
      "6\n"
     ]
    }
   ],
   "source": [
    "print(20%7)"
   ]
  },
  {
   "cell_type": "markdown",
   "id": "f2e47cdc",
   "metadata": {},
   "source": [
    "# PEMDAS Rule:\n",
    "    - P = parenthesis\n",
    "    - E = exponent\n",
    "    - M = multiply\n",
    "    - D = divide\n",
    "    - A = add\n",
    "    - S = subtraction"
   ]
  },
  {
   "cell_type": "code",
   "execution_count": 26,
   "id": "528592be",
   "metadata": {},
   "outputs": [
    {
     "name": "stdout",
     "output_type": "stream",
     "text": [
      "27\n"
     ]
    }
   ],
   "source": [
    "print(3**2+(2+3)*4-2)"
   ]
  },
  {
   "cell_type": "code",
   "execution_count": 28,
   "id": "bb72a87a",
   "metadata": {},
   "outputs": [
    {
     "name": "stdout",
     "output_type": "stream",
     "text": [
      "21.5\n"
     ]
    }
   ],
   "source": [
    "print(25/2+3**2)"
   ]
  },
  {
   "cell_type": "code",
   "execution_count": 31,
   "id": "3ee89527",
   "metadata": {},
   "outputs": [
    {
     "name": "stdout",
     "output_type": "stream",
     "text": [
      "10\n"
     ]
    }
   ],
   "source": [
    "print(25%2+3**2)"
   ]
  }
 ],
 "metadata": {
  "kernelspec": {
   "display_name": "Python 3 (ipykernel)",
   "language": "python",
   "name": "python3"
  },
  "language_info": {
   "codemirror_mode": {
    "name": "ipython",
    "version": 3
   },
   "file_extension": ".py",
   "mimetype": "text/x-python",
   "name": "python",
   "nbconvert_exporter": "python",
   "pygments_lexer": "ipython3",
   "version": "3.9.7"
  }
 },
 "nbformat": 4,
 "nbformat_minor": 5
}
