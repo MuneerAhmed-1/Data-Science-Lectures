{
 "cells": [
  {
   "cell_type": "markdown",
   "id": "1bbd9b89",
   "metadata": {},
   "source": [
    "# Dictionary\n",
    "- dictionary is a key value pair\n",
    "- key data type string, int, float\n",
    "- value data type string, int, float, dit, list"
   ]
  },
  {
   "cell_type": "code",
   "execution_count": 3,
   "id": "7feca410",
   "metadata": {},
   "outputs": [
    {
     "name": "stdout",
     "output_type": "stream",
     "text": [
      "{'name': 'muneer', 'age': 22, 'salary': 50000.0}\n"
     ]
    }
   ],
   "source": [
    "employee = {'name':'muneer', 'age':22, 'salary':50000.0}\n",
    "print(employee)"
   ]
  },
  {
   "cell_type": "code",
   "execution_count": 4,
   "id": "4db0b489",
   "metadata": {},
   "outputs": [
    {
     "data": {
      "text/plain": [
       "dict"
      ]
     },
     "execution_count": 4,
     "metadata": {},
     "output_type": "execute_result"
    }
   ],
   "source": [
    "type(employee)"
   ]
  },
  {
   "cell_type": "code",
   "execution_count": 6,
   "id": "199c0c91",
   "metadata": {},
   "outputs": [
    {
     "data": {
      "text/plain": [
       "'muneer'"
      ]
     },
     "execution_count": 6,
     "metadata": {},
     "output_type": "execute_result"
    }
   ],
   "source": [
    "employee['name']"
   ]
  },
  {
   "cell_type": "code",
   "execution_count": 7,
   "id": "06f494ae",
   "metadata": {},
   "outputs": [
    {
     "data": {
      "text/plain": [
       "22"
      ]
     },
     "execution_count": 7,
     "metadata": {},
     "output_type": "execute_result"
    }
   ],
   "source": [
    "employee['age']"
   ]
  },
  {
   "cell_type": "code",
   "execution_count": 10,
   "id": "ffbb9c68",
   "metadata": {},
   "outputs": [
    {
     "data": {
      "text/plain": [
       "True"
      ]
     },
     "execution_count": 10,
     "metadata": {},
     "output_type": "execute_result"
    }
   ],
   "source": [
    "#membership operator\n",
    "'age' in employee"
   ]
  },
  {
   "cell_type": "code",
   "execution_count": 13,
   "id": "b61c31d9",
   "metadata": {},
   "outputs": [],
   "source": [
    "employee['age'] = 24"
   ]
  },
  {
   "cell_type": "code",
   "execution_count": 14,
   "id": "bfaeefcc",
   "metadata": {},
   "outputs": [
    {
     "data": {
      "text/plain": [
       "{'name': 'muneer', 'age': 24, 'salary': 50000.0}"
      ]
     },
     "execution_count": 14,
     "metadata": {},
     "output_type": "execute_result"
    }
   ],
   "source": [
    "employee"
   ]
  },
  {
   "cell_type": "code",
   "execution_count": 15,
   "id": "c1e33f1d",
   "metadata": {},
   "outputs": [],
   "source": [
    "employee['gender'] = 'Male'"
   ]
  },
  {
   "cell_type": "code",
   "execution_count": 16,
   "id": "6fd979c2",
   "metadata": {},
   "outputs": [
    {
     "data": {
      "text/plain": [
       "{'name': 'muneer', 'age': 24, 'salary': 50000.0, 'gender': 'Male'}"
      ]
     },
     "execution_count": 16,
     "metadata": {},
     "output_type": "execute_result"
    }
   ],
   "source": [
    "employee"
   ]
  },
  {
   "cell_type": "code",
   "execution_count": 17,
   "id": "c02b5b6f",
   "metadata": {},
   "outputs": [
    {
     "data": {
      "text/plain": [
       "24"
      ]
     },
     "execution_count": 17,
     "metadata": {},
     "output_type": "execute_result"
    }
   ],
   "source": [
    "employee.pop('age')"
   ]
  },
  {
   "cell_type": "code",
   "execution_count": 18,
   "id": "548ce6df",
   "metadata": {},
   "outputs": [
    {
     "data": {
      "text/plain": [
       "{'name': 'muneer', 'salary': 50000.0, 'gender': 'Male'}"
      ]
     },
     "execution_count": 18,
     "metadata": {},
     "output_type": "execute_result"
    }
   ],
   "source": [
    "employee"
   ]
  },
  {
   "cell_type": "markdown",
   "id": "8a6ab61f",
   "metadata": {},
   "source": [
    "# Frequency Table"
   ]
  },
  {
   "cell_type": "code",
   "execution_count": 20,
   "id": "1d73d78e",
   "metadata": {},
   "outputs": [],
   "source": [
    "fruits = ['banana', 'apple', 'mango', 'apple', 'mango', 'banana', 'apple', 'mango']"
   ]
  },
  {
   "cell_type": "code",
   "execution_count": 21,
   "id": "08d3b776",
   "metadata": {},
   "outputs": [
    {
     "data": {
      "text/plain": [
       "['banana', 'apple', 'mango', 'apple', 'mango', 'banana', 'apple', 'mango']"
      ]
     },
     "execution_count": 21,
     "metadata": {},
     "output_type": "execute_result"
    }
   ],
   "source": [
    "fruits"
   ]
  },
  {
   "cell_type": "code",
   "execution_count": 25,
   "id": "3cfd1231",
   "metadata": {},
   "outputs": [],
   "source": [
    "frq = {'banana':0}\n",
    "for i in fruits:\n",
    "    if i == 'banana':\n",
    "        frq['banana'] += 1"
   ]
  },
  {
   "cell_type": "code",
   "execution_count": 26,
   "id": "63e0a756",
   "metadata": {},
   "outputs": [
    {
     "data": {
      "text/plain": [
       "{'banana': 2}"
      ]
     },
     "execution_count": 26,
     "metadata": {},
     "output_type": "execute_result"
    }
   ],
   "source": [
    "frq"
   ]
  },
  {
   "cell_type": "code",
   "execution_count": 28,
   "id": "efbfd660",
   "metadata": {},
   "outputs": [],
   "source": [
    "frq_table = {}\n",
    "for i in fruits:\n",
    "    if i in frq_table:\n",
    "        frq_table[i] += 1\n",
    "    else:\n",
    "        frq_table[i] = 1"
   ]
  },
  {
   "cell_type": "code",
   "execution_count": 31,
   "id": "0c212dfa",
   "metadata": {},
   "outputs": [
    {
     "data": {
      "text/plain": [
       "{'banana': 2, 'apple': 3, 'mango': 3}"
      ]
     },
     "execution_count": 31,
     "metadata": {},
     "output_type": "execute_result"
    }
   ],
   "source": [
    "frq_table"
   ]
  }
 ],
 "metadata": {
  "kernelspec": {
   "display_name": "Python 3 (ipykernel)",
   "language": "python",
   "name": "python3"
  },
  "language_info": {
   "codemirror_mode": {
    "name": "ipython",
    "version": 3
   },
   "file_extension": ".py",
   "mimetype": "text/x-python",
   "name": "python",
   "nbconvert_exporter": "python",
   "pygments_lexer": "ipython3",
   "version": "3.9.7"
  }
 },
 "nbformat": 4,
 "nbformat_minor": 5
}
